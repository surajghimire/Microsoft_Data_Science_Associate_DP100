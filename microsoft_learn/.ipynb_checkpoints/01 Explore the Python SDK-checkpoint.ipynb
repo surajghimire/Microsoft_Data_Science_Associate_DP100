{
 "cells": [
  {
   "cell_type": "markdown",
   "id": "b08f32bb",
   "metadata": {},
   "source": [
    "## Microsoft Learn Link\n",
    "https://learn.microsoft.com/en-us/training/modules/explore-developer-tools-for-workspace-interaction/3-explore-python-sdk\n",
    "\n",
    "#### Explore developer tools for workspace interaction\n",
    "https://microsoftlearning.github.io/mslearn-azure-ml/Instructions/02-Explore-developer-tools.html"
   ]
  },
  {
   "cell_type": "markdown",
   "id": "b35a99c5",
   "metadata": {},
   "source": [
    "#### Install the Python SDK\n",
    "To install the Python SDK within your Python environment, you need Python 3.7 or later. You can install the package with pip:"
   ]
  },
  {
   "cell_type": "code",
   "execution_count": 3,
   "id": "b2359238",
   "metadata": {},
   "outputs": [],
   "source": [
    "# uncomment below and run the command \n",
    "# pip install azure-ai-ml"
   ]
  },
  {
   "cell_type": "code",
   "execution_count": 4,
   "id": "bbb737ac",
   "metadata": {},
   "outputs": [
    {
     "ename": "SyntaxError",
     "evalue": "invalid syntax (159511421.py, line 1)",
     "output_type": "error",
     "traceback": [
      "\u001b[1;36m  Cell \u001b[1;32mIn[4], line 1\u001b[1;36m\u001b[0m\n\u001b[1;33m    git clone https://github.com/MicrosoftLearning/mslearn-azure-ml.git azure-ml-labs\u001b[0m\n\u001b[1;37m        ^\u001b[0m\n\u001b[1;31mSyntaxError\u001b[0m\u001b[1;31m:\u001b[0m invalid syntax\n"
     ]
    }
   ],
   "source": [
    " git clone https://github.com/MicrosoftLearning/mslearn-azure-ml.git azure-ml-labs"
   ]
  },
  {
   "cell_type": "code",
   "execution_count": null,
   "id": "bd232e5c",
   "metadata": {},
   "outputs": [],
   "source": []
  }
 ],
 "metadata": {
  "kernelspec": {
   "display_name": "Python 3 (ipykernel)",
   "language": "python",
   "name": "python3"
  },
  "language_info": {
   "codemirror_mode": {
    "name": "ipython",
    "version": 3
   },
   "file_extension": ".py",
   "mimetype": "text/x-python",
   "name": "python",
   "nbconvert_exporter": "python",
   "pygments_lexer": "ipython3",
   "version": "3.11.5"
  }
 },
 "nbformat": 4,
 "nbformat_minor": 5
}
